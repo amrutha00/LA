{
 "cells": [
  {
   "cell_type": "markdown",
   "metadata": {},
   "source": [
    "FORWARD PROPOGATION"
   ]
  },
  {
   "cell_type": "code",
   "execution_count": 103,
   "metadata": {},
   "outputs": [],
   "source": [
    "import numpy as np\n",
    "import scipy.linalg as sla\n",
    "import numpy.linalg as nla\n",
    "from scipy.linalg import null_space\n",
    "import matplotlib.pyplot as plt"
   ]
  },
  {
   "cell_type": "markdown",
   "metadata": {},
   "source": [
    "Input Layer- Linear transformation\n",
    "FEATURE SELECTION -COLUMN TYPE- Supported by Keras\n",
    "Each row in the matrix is treated as a sample\n",
    "Each column in the matrix is treated as a feature\n",
    "We consider 1 image at a time. \n",
    "Each sample forms a basis in R10"
   ]
  },
  {
   "cell_type": "code",
   "execution_count": 47,
   "metadata": {},
   "outputs": [
    {
     "name": "stdout",
     "output_type": "stream",
     "text": [
      "[[  0   0   0   0   0   0   0   0   0   0]\n",
      " [  0   0   0   0  25  67 210  12   0   0]\n",
      " [  0   0   0   0   0   0   0   0   0   0]\n",
      " [  0   0  10 100  50  80  90 150   0   0]\n",
      " [  5   0   0 110   0 246 143   0 130   0]\n",
      " [  0   0   0   0 250 210 120   0   0   0]\n",
      " [  0   0 140  30 230   0 186   0   0   0]\n",
      " [  0   0   0  30 230   0 186   0   0   0]\n",
      " [  0   0  10   0  20   0   1   0   0   0]\n",
      " [  0   0   0   0   0   0   0   0   0   0]]\n",
      "(10, 10)\n",
      "2\n"
     ]
    }
   ],
   "source": [
    "A=np.array([[0,0,0,0,0,0,0,0,0,0],[0,0,0,0,25,67,210,12,0,0],[0,0,0,0,0,0,0,0,0,0],[0,0,10,100,50,80,90,150,0,0],[5,0,0,110,0,246,143,0,130,0],[0,0,0,0,250,210,120,0,0,0],[0,0,140,30,230,0,186,0,0,0],[0,0,0,30,230,0,186,0,0,0],[0,0,10,0,20,0,1,0,0,0],[0,0,0,0,0,0,0,0,0,0]])\n",
    "print(A)\n",
    "print(A.shape)\n",
    "print(A.ndim)"
   ]
  },
  {
   "cell_type": "code",
   "execution_count": 59,
   "metadata": {},
   "outputs": [
    {
     "name": "stdout",
     "output_type": "stream",
     "text": [
      "[[0.        ]\n",
      " [0.        ]\n",
      " [0.        ]\n",
      " [0.        ]\n",
      " [0.        ]\n",
      " [0.        ]\n",
      " [0.        ]\n",
      " [0.        ]\n",
      " [0.        ]\n",
      " [0.        ]\n",
      " [0.        ]\n",
      " [0.        ]\n",
      " [0.        ]\n",
      " [0.        ]\n",
      " [0.09803922]\n",
      " [0.2627451 ]\n",
      " [0.82352941]\n",
      " [0.04705882]\n",
      " [0.        ]\n",
      " [0.        ]\n",
      " [0.        ]\n",
      " [0.        ]\n",
      " [0.        ]\n",
      " [0.        ]\n",
      " [0.        ]\n",
      " [0.        ]\n",
      " [0.        ]\n",
      " [0.        ]\n",
      " [0.        ]\n",
      " [0.        ]\n",
      " [0.        ]\n",
      " [0.        ]\n",
      " [0.03921569]\n",
      " [0.39215686]\n",
      " [0.19607843]\n",
      " [0.31372549]\n",
      " [0.35294118]\n",
      " [0.58823529]\n",
      " [0.        ]\n",
      " [0.        ]\n",
      " [0.01960784]\n",
      " [0.        ]\n",
      " [0.        ]\n",
      " [0.43137255]\n",
      " [0.        ]\n",
      " [0.96470588]\n",
      " [0.56078431]\n",
      " [0.        ]\n",
      " [0.50980392]\n",
      " [0.        ]\n",
      " [0.        ]\n",
      " [0.        ]\n",
      " [0.        ]\n",
      " [0.        ]\n",
      " [0.98039216]\n",
      " [0.82352941]\n",
      " [0.47058824]\n",
      " [0.        ]\n",
      " [0.        ]\n",
      " [0.        ]\n",
      " [0.        ]\n",
      " [0.        ]\n",
      " [0.54901961]\n",
      " [0.11764706]\n",
      " [0.90196078]\n",
      " [0.        ]\n",
      " [0.72941176]\n",
      " [0.        ]\n",
      " [0.        ]\n",
      " [0.        ]\n",
      " [0.        ]\n",
      " [0.        ]\n",
      " [0.        ]\n",
      " [0.11764706]\n",
      " [0.90196078]\n",
      " [0.        ]\n",
      " [0.72941176]\n",
      " [0.        ]\n",
      " [0.        ]\n",
      " [0.        ]\n",
      " [0.        ]\n",
      " [0.        ]\n",
      " [0.03921569]\n",
      " [0.        ]\n",
      " [0.07843137]\n",
      " [0.        ]\n",
      " [0.00392157]\n",
      " [0.        ]\n",
      " [0.        ]\n",
      " [0.        ]\n",
      " [0.        ]\n",
      " [0.        ]\n",
      " [0.        ]\n",
      " [0.        ]\n",
      " [0.        ]\n",
      " [0.        ]\n",
      " [0.        ]\n",
      " [0.        ]\n",
      " [0.        ]\n",
      " [0.        ]]\n",
      "(100, 1)\n",
      "2\n"
     ]
    }
   ],
   "source": [
    "#In LA terms we would call this a vector in R100- 1D plane in R100\n",
    "\n",
    "\n",
    "B=A.flatten().reshape(100,1)\n",
    "B =B/255\n",
    "print(B)\n",
    "print(B.shape)\n",
    "print(B.ndim)\n",
    "#1D plane in R100"
   ]
  },
  {
   "cell_type": "markdown",
   "metadata": {},
   "source": [
    "1st Hidden layer - 6 neurons (2/3 of the Input layer)\n",
    "Weight-Matrix -6x100\n",
    "Input Matrix- 100x1\n",
    "Bias matrix - 6x1\n",
    "Output Matrix - 6x1\n",
    "\n"
   ]
  },
  {
   "cell_type": "code",
   "execution_count": 98,
   "metadata": {},
   "outputs": [
    {
     "name": "stdout",
     "output_type": "stream",
     "text": [
      "[[0.99862859]\n",
      " [0.99957842]\n",
      " [0.99845921]\n",
      " [0.99932401]\n",
      " [0.99814213]\n",
      " [0.99877717]]\n"
     ]
    },
    {
     "data": {
      "text/plain": [
       "[<matplotlib.lines.Line2D at 0x15b3cf10888>]"
      ]
     },
     "execution_count": 98,
     "metadata": {},
     "output_type": "execute_result"
    },
    {
     "data": {
      "image/png": "[encoded data removed]",
      "text/plain": [
       "<Figure size 432x288 with 1 Axes>"
      ]
     },
     "metadata": {
      "needs_background": "light"
     },
     "output_type": "display_data"
    }
   ],
   "source": [
    "#HIDDEN-LAYER-1\n",
    "#Matrix multiplication implemented here is essentially computing Ax=b\n",
    "#b here is activation matrix of hidden layer-1 -In \"LA\" terms -b is the column space of Weight Matrix\n",
    "#the multiplication used here is dot product- inner product\n",
    "#Every row in the weight matrix is a vector transpose which is multiplied with the column vector B to get a scalar number\n",
    "#The In vector is a matrix with each of those scalars\n",
    "#In LA we see Ax=b but here we see Ax+c=b - the c indicates that the line essentially need not pass through the origin\n",
    "#The bias is added to shift the learning curve to fit the data better and helps in complex problem solving\n",
    "#We observe that there is a transformation from R100 to R6 and the weight matrix is the transformation matrix of order 6x100\n",
    "#Hence we can conclude that R100 is the domain, R6 is the codomain\n",
    "#N(W) gives the kernel and C(W) gives the range\n",
    "#We understand two important concepts that were taught in LA that matrix multiplication transforms a vector from one space to another\n",
    "#while matrix addition or scalar multiplication retains the vector in the same space and the resultant vectore is just a linear combination\n",
    "#vectors.\n",
    "\n",
    "\n",
    "W=np.random.random(size=(6,100)) \n",
    "bias=np.array([1,1,1,1,1,1]).reshape(6,1)\n",
    "\n",
    "In=W.dot(B)\n",
    "In1 = In + bias\n",
    "A1=1/(1+np.exp(-In1))\n",
    "print(A1)\n",
    "\n",
    "g = np.linspace(-10, 10, 6) \n",
    "plt.plot(g,A1)"
   ]
  },
  {
   "cell_type": "markdown",
   "metadata": {},
   "source": [
    "2nd Hidden layer - 6 neurons (2/3 of the Input layer)\n",
    "Weight-Matrix -6x6\n",
    "Input Matrix- 6x1\n",
    "Bias matrix - 6x1\n",
    "Output Matrix - 6x1\n",
    "\n"
   ]
  },
  {
   "cell_type": "code",
   "execution_count": 111,
   "metadata": {},
   "outputs": [
    {
     "name": "stdout",
     "output_type": "stream",
     "text": [
      "[[0.98641868]\n",
      " [0.98956715]\n",
      " [0.97690542]\n",
      " [0.93846135]\n",
      " [0.98322547]\n",
      " [0.97163375]]\n"
     ]
    },
    {
     "data": {
      "text/plain": [
       "[<matplotlib.lines.Line2D at 0x15b3d108b48>]"
      ]
     },
     "execution_count": 111,
     "metadata": {},
     "output_type": "execute_result"
    },
    {
     "data": {
      "image/png": "[encoded data removed]",
      "text/plain": [
       "<Figure size 432x288 with 1 Axes>"
      ]
     },
     "metadata": {
      "needs_background": "light"
     },
     "output_type": "display_data"
    }
   ],
   "source": [
    "#2nd hidden layer\n",
    "#Transformation from R6->R6\n",
    "#Transformation matrix is W1\n",
    "\n",
    "W1=np.random.random(size=(6,6)) \n",
    "bias1=np.array([1,1,1,1,1,1]).reshape(6,1)\n",
    "In2=W1.dot(A1)\n",
    "A2=1/(1+np.exp(-(W1.dot(A1)+bias1)))\n",
    "print(A2)\n",
    "g = np.linspace(-10, 10, 6) \n",
    "plt.plot(g,A2)\n"
   ]
  },
  {
   "cell_type": "code",
   "execution_count": 100,
   "metadata": {},
   "outputs": [
    {
     "name": "stdout",
     "output_type": "stream",
     "text": [
      "[[0.98303396]\n",
      " [0.96878589]]\n"
     ]
    },
    {
     "data": {
      "text/plain": [
       "[<matplotlib.lines.Line2D at 0x15b3cf86c48>]"
      ]
     },
     "execution_count": 100,
     "metadata": {},
     "output_type": "execute_result"
    },
    {
     "data": {
      "image/png": "[encoded data removed]",
      "text/plain": [
       "<Figure size 432x288 with 1 Axes>"
      ]
     },
     "metadata": {
      "needs_background": "light"
     },
     "output_type": "display_data"
    }
   ],
   "source": [
    "#output layer- binary classification problem\n",
    "#output has 2 neurons\n",
    "#perform one hot encoding on them\n",
    "#mapping of these 6 neurons to the output layer\n",
    "#Transformation from R6->R2\n",
    "#Transformation matrix is W2\n",
    "\n",
    "W2=np.random.random(size=(2,6)) \n",
    "bias2=np.array([1,1]).reshape(2,1)\n",
    "output=1/(1+np.exp(-(W2.dot(A2)+bias2)))\n",
    "print(output)\n",
    "g = np.linspace(-10, 10, 2) \n",
    "plt.plot(g,output)\n"
   ]
  },
  {
   "cell_type": "code",
   "execution_count": null,
   "metadata": {},
   "outputs": [],
   "source": []
  }
 ],
 "metadata": {
  "kernelspec": {
   "display_name": "Python 3",
   "language": "python",
   "name": "python3"
  },
  "language_info": {
   "codemirror_mode": {
    "name": "ipython",
    "version": 3
   },
   "file_extension": ".py",
   "mimetype": "text/x-python",
   "name": "python",
   "nbconvert_exporter": "python",
   "pygments_lexer": "ipython3",
   "version": "3.7.4"
  }
 },
 "nbformat": 4,
 "nbformat_minor": 2
}
